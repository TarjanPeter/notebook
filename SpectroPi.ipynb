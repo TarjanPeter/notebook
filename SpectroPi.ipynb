{
 "metadata": {
  "name": "",
  "signature": "sha256:c8a7045921e85e2606dd98bbd42c81f5a7563c5668a2966b5d4e15f7052ffab1"
 },
 "nbformat": 3,
 "nbformat_minor": 0,
 "worksheets": [
  {
   "cells": [
    {
     "cell_type": "heading",
     "level": 1,
     "metadata": {},
     "source": [
      "Raspberry Pi optikai spektrofotom\u00e9ter"
     ]
    },
    {
     "cell_type": "markdown",
     "metadata": {
      "variables": {}
     },
     "source": [
      "Egy Raspberry Pib\u00f3l egy RPi NoIR Camera boardb\u00f3l \u00e9s olcs\u00f3, k\u00f6nnyen hozz\u00e1f\u00e9rhet\u0151 alkatr\u00e9szekb\u0151l eg\u00e9szen haszn\u00e1lhat\u00f3 spektrofotom\u00e9tert lehet \u00f6sszerakni. A kamer\u00e1t haszn\u00e1ljuk f\u00e9nyer\u0151ss\u00e9gm\u00e9r\u0151nek, a szoftver a RPi-on fut (esetleg szerverk\u00e9nt?). A f\u00e9nyt egy optikai sz\u00e1llal is bevihetj\u00fck a kamer\u00e1ba, \u00edgy r\u00e9sre nincs sz\u00fcks\u00e9g. A kamera t\u00falvez\u00e9rl\u00e9s\u00e9nek elker\u00fcl\u00e9s\u00e9re haszn\u00e1lhatunk v\u00e1ltoztathat\u00f3 neutral density (ND) sz\u0171r\u0151t (pl.: http://www.ebay.com/itm/FOTGA-Slim-Fader-Variable-ND-Filter-Adjustable-ND2-to-ND400-46mm-Neutral-Density-/361194861257?pt=LH_DefaultDomain_0&hash=item5418e432c9). R\u00e1csk\u00e9nt alkalmas egy DVD kiv\u00e1gott darabja, ez transzmisszi\u00f3s \u00e9s reflexi\u00f3s r\u00e1csnak is haszn\u00e1lhat\u00f3. Ennek alternat\u00edv\u00e1ja lehet egy eBayr\u0151l k\u00f6nnyen beszerezhet\u0151 diffrakci\u00f3s r\u00e1cs (pl. http://www.ebay.com/itm/Diffraction-Grating-Slide-Holographic-Linear-1000-lines-mm-Lamp-Laser-Spectrum-/270818868831?pt=LH_DefaultDomain_0&hash=item3f0e0ffe5f), amelynek el\u0151nye, hogy pontosan tudjuk a vonals\u0171r\u0171s\u00e9g\u00e9t.\n",
      "\n",
      "Hogyan \u00e9rdemes elhelyezni a bej\u00f6v\u0151 f\u00e9ny ir\u00e1ny\u00e1hoz k\u00e9pest a r\u00e1csot \u00e9s a kamer\u00e1t? Ehhez tudnunk kell, hogy a kamera szenzora 3.2 mm sz\u00e9les (2592 pixel felbont\u00e1ssal); \u00e9s el kell d\u00f6nten\u00fcnk, milyen hull\u00e1mhossztartom\u00e1nyt akarunk lefedni vele."
     ]
    },
    {
     "cell_type": "code",
     "collapsed": false,
     "input": [
      "import numpy as np\n",
      "\n",
      "tartomany = [0.320, 0.900] # \u03bcm\n",
      "racsallando = 1.0 # \u03bcm/vonal\n",
      "szenzorszelesseg = 3200 # \u03bcm\n",
      "\n",
      "def radFok(szograd):\n",
      "    return szograd*180/np.pi\n",
      "def fokRad(szogfok):\n",
      "    return szogfok*np.pi/180"
     ],
     "language": "python",
     "metadata": {},
     "outputs": [],
     "prompt_number": 21
    },
    {
     "cell_type": "heading",
     "level": 2,
     "metadata": {},
     "source": [
      "R\u00e1csra mer\u0151leges bees\u00e9s"
     ]
    },
    {
     "cell_type": "markdown",
     "metadata": {
      "variables": {}
     },
     "source": [
      "Ha a r\u00e1csra mer\u0151legesen \u00e9rkezik be a f\u00e9ny, akkor az els\u0151rend\u0171 er\u0151s\u00edt\u00e9s $\\vartheta_m = \\arcsin \\frac{1\\cdot \\lambda}{d}$ ir\u00e1nyba esik, ahol $d$ a r\u00e1cs\u00e1lland\u00f3."
     ]
    },
    {
     "cell_type": "code",
     "collapsed": false,
     "input": [
      "theta = [0,0] # els\u0151rend\u0171 maximum ir\u00e1nya \n",
      "theta[0] = radFok(np.arcsin(tartomany[0]/racsallando))\n",
      "theta[1] = radFok(np.arcsin(tartomany[1]/racsallando))"
     ],
     "language": "python",
     "metadata": {},
     "outputs": [],
     "prompt_number": 34
    },
    {
     "cell_type": "markdown",
     "metadata": {
      "variables": {
       "float(\"{:.3f}\".format(tartomany[0]))": "0.32",
       "float(\"{:.3f}\".format(tartomany[1]))": "0.9",
       "float(\"{:2.1f}\".format(theta[0]))": "18.7",
       "float(\"{:2.1f}\".format(theta[1]))": "64.2"
      }
     },
     "source": [
      "Az els\u0151rend\u0171 maximumok ir\u00e1nya:\n",
      "\n",
      "{{float(\"{:.3f}\".format(tartomany[0]))}} \u03bcm-n\u00e9l {{float(\"{:2.1f}\".format(theta[0]))}}\u00b0\n",
      "\n",
      "{{float(\"{:.3f}\".format(tartomany[1]))}} \u03bcm-n\u00e9l {{float(\"{:2.1f}\".format(theta[1]))}}\u00b0\n",
      "\n",
      "\n"
     ]
    },
    {
     "cell_type": "code",
     "collapsed": false,
     "input": [
      "teljesSzog = theta[1]-theta[0]\n",
      "felSzog = teljesSzog/2\n",
      "\n",
      "tavolsag = szenzorszelesseg/(2*np.tan(fokRad(felSzog)))"
     ],
     "language": "python",
     "metadata": {},
     "outputs": [],
     "prompt_number": 35
    },
    {
     "cell_type": "markdown",
     "metadata": {
      "variables": {
       "float(\"{:.1f}\".format(tavolsag/1000))": "3.8",
       "float(\"{:2.1f}\".format(theta[0]/2+theta[1]/2))": "41.4"
      }
     },
     "source": [
      "\u00cdgy a szenzornak {{float(\"{:.1f}\".format(tavolsag/1000))}} mm t\u00e1vols\u00e1gra kell lennie a r\u00e1cst\u00f3l, a r\u00e1ccsal {{float(\"{:2.1f}\".format(theta[0]/2+theta[1]/2))}}\u00b0 sz\u00f6get bez\u00e1r\u00f3an."
     ]
    },
    {
     "cell_type": "heading",
     "level": 2,
     "metadata": {},
     "source": [
      "Tetsz\u0151leges sz\u00f6g\u0171 bees\u00e9s"
     ]
    },
    {
     "cell_type": "markdown",
     "metadata": {
      "variables": {}
     },
     "source": [
      "Ha a r\u00e1csra $\\alpha$ sz\u00f6gben esik be a f\u00e9ny, akkor az els\u0151rend\u0171 er\u0151s\u00edt\u00e9s $\\vartheta_m = \\arcsin \\left(\\frac{1\\cdot \\lambda}{d} -\\sin\\alpha\\right)$ ir\u00e1nyba esik *a r\u00e1cs norm\u00e1lis\u00e1hoz k\u00e9pest*, ahol $d$ a r\u00e1cs\u00e1lland\u00f3."
     ]
    },
    {
     "cell_type": "code",
     "collapsed": false,
     "input": [
      "alfa = 37.58  # fok\n",
      "theta = [0,0] # els\u0151rend\u0171 maximum ir\u00e1nya \n",
      "theta[0] = radFok(np.arcsin(tartomany[0]/racsallando - np.sin(fokRad(alfa))))\n",
      "theta[1] = radFok(np.arcsin(tartomany[1]/racsallando - np.sin(fokRad(alfa))))"
     ],
     "language": "python",
     "metadata": {},
     "outputs": [],
     "prompt_number": 44
    },
    {
     "cell_type": "markdown",
     "metadata": {
      "variables": {
       "float(\"{:.3f}\".format(tartomany[0]))": "0.32",
       "float(\"{:.3f}\".format(tartomany[1]))": "0.9",
       "float(\"{:2.1f}\".format(theta[0]))": "-16.9",
       "float(\"{:2.1f}\".format(theta[1]))": "16.9"
      }
     },
     "source": [
      "Az els\u0151rend\u0171 maximumok ir\u00e1nya:\n",
      "\n",
      "{{float(\"{:.3f}\".format(tartomany[0]))}} \u03bcm-n\u00e9l {{float(\"{:2.1f}\".format(theta[0]))}}\u00b0\n",
      "\n",
      "{{float(\"{:.3f}\".format(tartomany[1]))}} \u03bcm-n\u00e9l {{float(\"{:2.1f}\".format(theta[1]))}}\u00b0\n",
      "\n"
     ]
    },
    {
     "cell_type": "code",
     "collapsed": false,
     "input": [
      "teljesSzog = theta[1]-theta[0]\n",
      "felSzog = teljesSzog/2\n",
      "\n",
      "tavolsag = szenzorszelesseg/(2*np.tan(fokRad(felSzog)))"
     ],
     "language": "python",
     "metadata": {},
     "outputs": [],
     "prompt_number": 45
    },
    {
     "cell_type": "markdown",
     "metadata": {
      "variables": {
       "float(\"{:.1f}\".format(tavolsag/1000))": "5.3",
       "float(\"{:2.1f}\".format(theta[0]/2+theta[1]/2))": "0.0"
      }
     },
     "source": [
      "\u00cdgy a szenzornak {{float(\"{:.1f}\".format(tavolsag/1000))}} mm t\u00e1vols\u00e1gra kell lennie a r\u00e1cst\u00f3l, a r\u00e1ccsal {{float(\"{:2.1f}\".format(theta[0]/2+theta[1]/2))}}\u00b0 sz\u00f6get bez\u00e1r\u00f3an."
     ]
    }
   ],
   "metadata": {}
  }
 ]
}