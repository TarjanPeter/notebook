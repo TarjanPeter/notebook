{
 "metadata": {
  "name": "",
  "signature": "sha256:14351f2cfefc497636ac27955223491f681ae7dc39cb8f8dbd6c6ce041b47ff4"
 },
 "nbformat": 3,
 "nbformat_minor": 0,
 "worksheets": [
  {
   "cells": [
    {
     "cell_type": "heading",
     "level": 1,
     "metadata": {},
     "source": [
      "Radioakt\u00edv izot\u00f3p aktivit\u00e1s\u00e1nak meghat\u00e1roz\u00e1sa \u00f6sszehasonl\u00edt\u00f3 m\u00f3dszerrel"
     ]
    },
    {
     "cell_type": "markdown",
     "metadata": {
      "variables": {}
     },
     "source": [
      "A m\u00e9r\u00e9s sor\u00e1n megm\u00e9rj\u00fck a h\u00e1tt\u00e9rsug\u00e1rz\u00e1s intenzit\u00e1s\u00e1t, egy ismert aktivit\u00e1s\u00fa radioakt\u00edv forr\u00e1s intenzit\u00e1s\u00e1t \u00e9s k\u00e9t ismetlen aktivit\u00e1s\u00fa forr\u00e1s sug\u00e1rz\u00e1si intenzit\u00e1s\u00e1t. Fontos, hogy az ismert \u00e9s az ismeretlen aktivit\u00e1s\u00fa forr\u00e1sok ugyanolyan izot\u00f3pok ugyanolyan ar\u00e1ny\u00fa kever\u00e9kei legyenek (vagy tiszta izot\u00f3pok). A m\u00e9r\u00e9shez az adott sug\u00e1rz\u00e1sra \u00e9rz\u00e9keny detektort haszn\u00e1lunk, \u00e9s az egyszer\u0171s\u00e9g kedv\u00e9\u00e9rt a detektor-forr\u00e1s t\u00e1vols\u00e1g \u00e9s a m\u00e9r\u00e9si id\u0151 mindegyik esetben ugyanaz. (Nagys\u00e1grendileg k\u00fcl\u00f6nb\u00f6z\u0151 aktivit\u00e1sokn\u00e1l ez nem mindig j\u00e1rhat\u00f3 \u00fat.) A detektorral m\u00e9rt be\u00fct\u00e9ssz\u00e1mok az aktivit\u00e1ssal ar\u00e1nyosak."
     ]
    },
    {
     "cell_type": "code",
     "collapsed": false,
     "input": [
      "import numpy"
     ],
     "language": "python",
     "metadata": {},
     "outputs": [],
     "prompt_number": 2
    },
    {
     "cell_type": "code",
     "collapsed": false,
     "input": [
      "# a m\u00e9rt be\u00fct\u00e9ssz\u00e1mok\n",
      "# h\u00e1tt\u00e9r, ismert, els\u0151 ismeretlen, m\u00e1sodik ismeretlen\n",
      "N = {\"h\": 39, \"i\": 5426, \"x\": 6585, \"y\": 2958}\n",
      "\n",
      "# az aktivit\u00e1sok, kBq egys\u00e9gben\n",
      "A = {\"i\":80.5}\n"
     ],
     "language": "python",
     "metadata": {},
     "outputs": [],
     "prompt_number": 3
    },
    {
     "cell_type": "markdown",
     "metadata": {
      "variables": {}
     },
     "source": [
      "Az ismeretlen aktivit\u00e1sokat az al\u00e1bbi \u00f6sszef\u00fcgg\u00e9ssel tudjuk kisz\u00e1molni: \n",
      "\n",
      "\\begin{equation} A_x = A_i \\cdot \\frac{N_x-N_h}{N_i-N_h}\\end{equation}"
     ]
    },
    {
     "cell_type": "code",
     "collapsed": false,
     "input": [
      "A[\"x\"] = A[\"i\"]*(N[\"x\"]-N[\"h\"])/(N[\"i\"]-N[\"h\"])\n",
      "A[\"y\"] = A[\"i\"]*(N[\"y\"]-N[\"h\"])/(N[\"i\"]-N[\"h\"])\n",
      "print \"Az x forr\u00e1s aktivit\u00e1sa: Ax = %3.1f kBq.\" % A[\"x\"]\n",
      "print \"Az y forr\u00e1s aktivit\u00e1sa: Ay = %3.1f kBq.\" % A[\"y\"]"
     ],
     "language": "python",
     "metadata": {},
     "outputs": [
      {
       "output_type": "stream",
       "stream": "stdout",
       "text": [
        "Az x forr\u00e1s aktivit\u00e1sa: Ax = 97.8 kBq.\n",
        "Az y forr\u00e1s aktivit\u00e1sa: Ay = 43.6 kBq.\n"
       ]
      }
     ],
     "prompt_number": 4
    },
    {
     "cell_type": "heading",
     "level": 2,
     "metadata": {},
     "source": [
      "Hibasz\u00e1m\u00edt\u00e1s"
     ]
    },
    {
     "cell_type": "markdown",
     "metadata": {
      "variables": {}
     },
     "source": [
      "A v\u00e9geredm\u00e9ny hib\u00e1j\u00e1t a hibaterjed\u00e9s t\u00f6rv\u00e9nyeinek felhaszn\u00e1l\u00e1s\u00e1val sz\u00e1moljuk ki. Ezt k\u00e9tf\u00e9lek\u00e9ppen tessz\u00fck meg; el\u0151sz\u00f6r \u00fagy, hogy az egyes m\u00e9rt be\u00fct\u00e9ssz\u00e1mok bizonytalans\u00e1g\u00e1t egym\u00e1st\u00f3l f\u00fcggetlennek tekintj\u00fck, majd \u00fagy, hogy nem \u00e9l\u00fcnk ezzel a feltev\u00e9ssel."
     ]
    },
    {
     "cell_type": "heading",
     "level": 3,
     "metadata": {},
     "source": [
      "F\u00fcggetlennek tekinthet\u0151 bizonytalans\u00e1gok"
     ]
    },
    {
     "cell_type": "markdown",
     "metadata": {
      "variables": {}
     },
     "source": [
      "F\u00fcggetlen\u00fcl m\u00e9rt mennyis\u00e9gek eset\u00e9n a hib\u00e1k \u00e1ltal\u00e1ban kvadratikusan adhat\u00f3k \u00f6ssze.\n",
      "\n",
      "Az aktivit\u00e1sok h\u00e1rom t\u00e9nyez\u0151 szorzatak\u00e9nt sz\u00e1molhat\u00f3k ki: $A_x = A_i \\cdot (N_x-N_h)(N_i-N_h)^{-1}$. A szorzatra \u00e9s h\u00e1nyadosra vonatkoz\u00f3 hibaterjed\u00e9si \u00f6sszef\u00fcgg\u00e9s az, hogy a *relat\u00edv* bizonytalans\u00e1gok ad\u00f3dnak \u00f6ssze kvadratikusan:\n",
      "\\begin{eqnarray*}\n",
      "\\delta A_x &=& \\delta A_i\\oplus \\delta (N_x-N_h)\\oplus \\delta(N_i-N_h)=\\\\\n",
      "&=& \\sqrt{(\\delta A_i)^2+(\\delta(N_x-N_h)))^2+(\\delta(N_i-N_h))^2 },\n",
      "\\end{eqnarray*}\n",
      "ahol $\\delta$ az ut\u00e1na k\u00f6vetkez\u0151 mennyis\u00e9g relat\u00edv bizonytalans\u00e1g\u00e1t, $\\oplus$ pedig a kvadratikus \u00f6sszead\u00e1st jelenti.\n",
      "\n",
      "Az ismert aktivit\u00e1s\u00fa izot\u00f3p aktivit\u00e1s\u00e1nak bizonytalans\u00e1ga is ismert, de a z\u00e1r\u00f3jeles kifejez\u00e9sek relat\u00edv hib\u00e1j\u00e1t meg kell hat\u00e1roznunk. Ehhez azt kell figyelembe venn\u00fcnk, hogy mindk\u00e9t kifejez\u00e9s (az aktivit\u00e1s k\u00e9plet\u00e9ben a t\u00f6rt sz\u00e1ml\u00e1l\u00f3ja \u00e9s nevez\u0151je) egy kivon\u00e1s, \u00e9s az \u00f6sszead\u00e1sn\u00e1l illetve a kivon\u00e1sn\u00e1l az abszol\u00fat hib\u00e1k ad\u00f3dnak \u00f6ssze kvadratikusan:\n",
      "\\begin{eqnarray*}\n",
      "\\Delta(N_x - N_h) = \\Delta N_x \\oplus \\Delta N_h = \\sqrt{(\\Delta N_x)^2 + (\\Delta N_h)^2}\\\\\n",
      "\\Delta(N_i - N_h) = \\Delta N_i \\oplus \\Delta N_h = \\sqrt{(\\Delta N_i)^2 + (\\Delta N_h)^2},\n",
      "\\end{eqnarray*}\n",
      "ahol $\\Delta$ az abszol\u00fat hib\u00e1kat jel\u00f6li.\n",
      "\n",
      "Az $N_x$, $N_h$, $N_i$ mennyis\u00e9gek *be\u00fct\u00e9ssz\u00e1mok*, amelyeknek a bizonytalans\u00e1ga a radioaktivit\u00e1sra vonatkoz\u00f3s statisztikai \u00f6sszef\u00fcgg\u00e9sek miatt a *be\u00fct\u00e9ssz\u00e1mok gy\u00f6ke*: $\\Delta N = \\sqrt{N}$."
     ]
    },
    {
     "cell_type": "markdown",
     "metadata": {
      "variables": {}
     },
     "source": [
      "A megold\u00e1s menete teh\u00e1t a fenti le\u00edr\u00e1shoz k\u00e9pest ford\u00edtott: el\u0151sz\u00f6r meghat\u00e1rozzuk a be\u00fct\u00e9ssz\u00e1mok hib\u00e1j\u00e1t."
     ]
    },
    {
     "cell_type": "code",
     "collapsed": false,
     "input": [
      "DELTA = {\"h\": sqrt(N[\"h\"]),\"i\": sqrt(N[\"i\"]), \"x\":sqrt(N[\"x\"]), \"y\":sqrt(N[\"y\"]) }\n",
      "print \"Az Nh bizonytalans\u00e1ga: \u0394Nh = %3.2f.\" % DELTA[\"h\"]\n",
      "print \"Az Ni bizonytalans\u00e1ga: \u0394Ni = %3.2f.\" % DELTA[\"i\"]\n",
      "print \"Az Nx bizonytalans\u00e1ga: \u0394Nx = %3.2f.\" % DELTA[\"x\"]\n",
      "print \"Az Ny bizonytalans\u00e1ga: \u0394Ny = %3.2f.\" % DELTA[\"y\"]"
     ],
     "language": "python",
     "metadata": {},
     "outputs": [
      {
       "output_type": "stream",
       "stream": "stdout",
       "text": [
        "Az Nh bizonytalans\u00e1ga: \u0394Nh = 6.24.\n",
        "Az Ni bizonytalans\u00e1ga: \u0394Ni = 73.66.\n",
        "Az Nx bizonytalans\u00e1ga: \u0394Nx = 81.15.\n",
        "Az Ny bizonytalans\u00e1ga: \u0394Ny = 54.39.\n"
       ]
      }
     ],
     "prompt_number": 5
    },
    {
     "cell_type": "markdown",
     "metadata": {
      "variables": {}
     },
     "source": [
      "Ezut\u00e1n a kisz\u00e1moljuk a sz\u00e1ml\u00e1l\u00f3k \u00e9s a nevez\u0151 hib\u00e1j\u00e1t - ehhez defini\u00e1lunk egy f\u00fcggv\u00e9nyt, ami a kvadratikus \u00f6sszegeket kisz\u00e1molja."
     ]
    },
    {
     "cell_type": "code",
     "collapsed": false,
     "input": [
      "# k\u00e9t sz\u00e1m kvadratikus \u00f6sszeg\u00e9t sz\u00e1mol\u00f3 f\u00fcggv\u00e9ny\n",
      "def kvadosszeg(egyik, masik):\n",
      "    eredmeny = sqrt(egyik**2+masik**2)\n",
      "    return eredmeny"
     ],
     "language": "python",
     "metadata": {},
     "outputs": [],
     "prompt_number": 6
    },
    {
     "cell_type": "code",
     "collapsed": false,
     "input": [
      "DELTA[\"i-h\"] = kvadosszeg(DELTA[\"i\"], DELTA[\"h\"])\n",
      "DELTA[\"x-h\"] = kvadosszeg(DELTA[\"x\"], DELTA[\"h\"])\n",
      "DELTA[\"y-h\"] = kvadosszeg(DELTA[\"y\"], DELTA[\"h\"])\n",
      "print \"Az Ni-Nh abszol\u00fat hib\u00e1ja: \u0394(Ni-Nh) = %3.2f.\" % DELTA[\"i-h\"]\n",
      "print \"Az Nx-Nh abszol\u00fat hib\u00e1ja: \u0394(Nx-Nh) = %3.2f.\" % DELTA[\"x-h\"]\n",
      "print \"Az Ny-Nh abszol\u00fat hib\u00e1ja: \u0394(Ny-Nh) = %3.2f.\" % DELTA[\"y-h\"]"
     ],
     "language": "python",
     "metadata": {},
     "outputs": [
      {
       "output_type": "stream",
       "stream": "stdout",
       "text": [
        "Az Ni-Nh abszol\u00fat hib\u00e1ja: \u0394(Ni-Nh) = 73.93.\n",
        "Az Nx-Nh abszol\u00fat hib\u00e1ja: \u0394(Nx-Nh) = 81.39.\n",
        "Az Ny-Nh abszol\u00fat hib\u00e1ja: \u0394(Ny-Nh) = 54.74.\n"
       ]
      }
     ],
     "prompt_number": 7
    },
    {
     "cell_type": "markdown",
     "metadata": {
      "variables": {}
     },
     "source": [
      "A z\u00e1r\u00f3jeles kifejez\u00e9seknek viszont a relat\u00edv hib\u00e1j\u00e1ra lesz sz\u00fcks\u00e9g\u00fcnk."
     ]
    },
    {
     "cell_type": "code",
     "collapsed": false,
     "input": [
      "delta = {\"i-h\": DELTA[\"i-h\"]/(N[\"i\"]-N[\"h\"]),\n",
      "         \"x-h\": DELTA[\"x-h\"]/(N[\"x\"]-N[\"h\"]),\n",
      "         \"y-h\": DELTA[\"y-h\"]/(N[\"y\"]-N[\"h\"])}\n",
      "print \"Az Ni-Nh relat\u00edv hib\u00e1ja: \u03b4(Ni-Nh) = %3.3f.\" % delta[\"i-h\"]\n",
      "print \"Az Nx-Nh relat\u00edv hib\u00e1ja: \u03b4(Nx-Nh) = %3.3f.\" % delta[\"x-h\"]\n",
      "print \"Az Ny-Nh relat\u00edv hib\u00e1ja: \u03b4(Ny-Nh) = %3.3f.\" % delta[\"y-h\"]"
     ],
     "language": "python",
     "metadata": {},
     "outputs": [
      {
       "output_type": "stream",
       "stream": "stdout",
       "text": [
        "Az Ni-Nh relat\u00edv hib\u00e1ja: \u03b4(Ni-Nh) = 0.014.\n",
        "Az Nx-Nh relat\u00edv hib\u00e1ja: \u03b4(Nx-Nh) = 0.012.\n",
        "Az Ny-Nh relat\u00edv hib\u00e1ja: \u03b4(Ny-Nh) = 0.019.\n"
       ]
      }
     ],
     "prompt_number": 8
    },
    {
     "cell_type": "markdown",
     "metadata": {
      "variables": {}
     },
     "source": [
      "Az $A_i$ bizonytalans\u00e1ga szerepel a forr\u00e1s adatlapj\u00e1n vagy megadja a laborvezet\u0151. Eset\u00fcnkben ez 2%."
     ]
    },
    {
     "cell_type": "code",
     "collapsed": false,
     "input": [
      "delta[\"Ai\"] = 0.02"
     ],
     "language": "python",
     "metadata": {},
     "outputs": [],
     "prompt_number": 9
    },
    {
     "cell_type": "markdown",
     "metadata": {
      "variables": {}
     },
     "source": [
      "\u00cdgy az ismeretlen izot\u00f3pok aktivit\u00e1s\u00e1nak bizonytalans\u00e1ga: "
     ]
    },
    {
     "cell_type": "code",
     "collapsed": false,
     "input": [
      "delta[\"Ax\"] = kvadosszeg(delta[\"Ai\"],kvadosszeg(delta[\"i-h\"],delta[\"x-h\"]))\n",
      "delta[\"Ay\"] = kvadosszeg(delta[\"Ai\"],kvadosszeg(delta[\"i-h\"],delta[\"y-h\"]))\n",
      "deltasz = {\"Ax\":delta[\"Ax\"]*100, \"Ay\":delta[\"Ay\"]*100}\n",
      "print \"Az Ax relat\u00edv hib\u00e1ja: \u03b4Ax = %3.3f.\" % delta[\"Ax\"]\n",
      "print \"(vagy %3.1f %%.)\" % deltasz[\"Ax\"]\n",
      "print \"Az Ay relat\u00edv hib\u00e1ja: \u03b4Ay = %3.3f.\" % delta[\"Ay\"]\n",
      "print \"(vagy %3.1f %%.)\" % deltasz[\"Ay\"]"
     ],
     "language": "python",
     "metadata": {},
     "outputs": [
      {
       "output_type": "stream",
       "stream": "stdout",
       "text": [
        "Az Ax relat\u00edv hib\u00e1ja: \u03b4Ax = 0.027.\n",
        "(vagy 2.7 %.)\n",
        "Az Ay relat\u00edv hib\u00e1ja: \u03b4Ay = 0.031.\n",
        "(vagy 3.1 %.)\n"
       ]
      }
     ],
     "prompt_number": 11
    },
    {
     "cell_type": "markdown",
     "metadata": {
      "variables": {
       " float(\"{:2.2f}\".format(deltasz[\"Ax\"]))": {},
       " float(\"{:2.2f}\".format(deltasz[\"Ay\"]))": {},
       "float(\"{:2.2f}\".format(A[\"x\"]))": {},
       "float(\"{:2.2f}\".format(A[\"y\"]))": {}
      }
     },
     "source": [
      "A m\u00e9r\u00e9s v\u00e9geredm\u00e9nye teh\u00e1t:\n",
      "\n",
      "$A_x =$ {{float(\"{:2.2f}\".format(A[\"x\"]))}} kBq $\\pm$ {{ float(\"{:2.2f}\".format(deltasz[\"Ax\"]))}}%\n",
      "\n",
      "$A_y =$ {{float(\"{:2.2f}\".format(A[\"y\"]))}} kBq $\\pm$ {{ float(\"{:2.2f}\".format(deltasz[\"Ay\"]))}}%"
     ]
    },
    {
     "cell_type": "code",
     "collapsed": false,
     "input": [],
     "language": "python",
     "metadata": {},
     "outputs": []
    }
   ],
   "metadata": {}
  }
 ]
}